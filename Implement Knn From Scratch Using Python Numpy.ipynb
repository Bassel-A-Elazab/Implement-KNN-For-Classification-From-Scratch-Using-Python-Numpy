{
 "cells": [
  {
   "cell_type": "code",
   "execution_count": 4,
   "metadata": {},
   "outputs": [],
   "source": [
    "import numpy as np\n",
    "import matplotlib.pyplot as plt\n",
    "import math"
   ]
  },
  {
   "cell_type": "code",
   "execution_count": 6,
   "metadata": {},
   "outputs": [
    {
     "name": "stdout",
     "output_type": "stream",
     "text": [
      "Number of trainning data = 120\n",
      "Number of testing data = 30\n"
     ]
    }
   ],
   "source": [
    "train_data_path = 'Data/IrisTraining.csv'\n",
    "test_data_path = 'Data/IrisTest.csv'\n",
    "\n",
    "train_data_file = np.loadtxt(train_data_path, delimiter = ',')\n",
    "test_data_file = np.loadtxt(test_data_path, delimiter = ',')\n",
    "\n",
    "train_data = train_data_file[:,:-1]\n",
    "train_labels_data = test_data_file[:,-1]\n",
    "\n",
    "test_data = test_data_file[:,:-1]\n",
    "test_labels_data = test_data_file[:,-1]\n",
    "\n",
    "print('Number of trainning data = %d'%(len(train_data)))\n",
    "print('Number of testing data = %d'%(len(test_data)))"
   ]
  },
  {
   "cell_type": "code",
   "execution_count": null,
   "metadata": {},
   "outputs": [],
   "source": [
    "def calculate_euclidean_distance(row1,row2):\n",
    "    l2 = 0\n",
    "    for i in range(len(row1)):\n",
    "        l2+=((row1[i] - row2[i])**2)\n",
    "    return math.sqrt(l2)\n",
    "print(calculate_euclidean_distance(train_data[0],train_data[0]))\n"
   ]
  }
 ],
 "metadata": {
  "kernelspec": {
   "display_name": "Python 3",
   "language": "python",
   "name": "python3"
  },
  "language_info": {
   "codemirror_mode": {
    "name": "ipython",
    "version": 3
   },
   "file_extension": ".py",
   "mimetype": "text/x-python",
   "name": "python",
   "nbconvert_exporter": "python",
   "pygments_lexer": "ipython3",
   "version": "3.8.2"
  }
 },
 "nbformat": 4,
 "nbformat_minor": 4
}
