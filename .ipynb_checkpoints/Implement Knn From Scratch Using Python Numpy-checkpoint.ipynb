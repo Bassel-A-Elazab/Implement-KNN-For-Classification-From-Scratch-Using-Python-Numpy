{
 "cells": [
  {
   "cell_type": "code",
   "execution_count": 4,
   "metadata": {},
   "outputs": [],
   "source": [
    "import numpy as np\n",
    "import matplotlib.pyplot as plt\n",
    "import math"
   ]
  },
  {
   "cell_type": "code",
   "execution_count": null,
   "metadata": {},
   "outputs": [],
   "source": [
    "train_data_path = 'Data/IrisTraining.csv'\n",
    "test_data_path = 'Data/IrisTest.csv'\n",
    "\n",
    "train_data_file = np.loadtxt(train_data_path, delimiter = ',')\n",
    "test_data_file = np.loadtxt(test_data_path, delimiter = ',')\n",
    "\n",
    "train_data = trainDataFile[:,:-1]\n",
    "train_labels_data = trainDataFile[:,-1]\n",
    "\n",
    "test_data = test_data_file[:,:-1]\n",
    "test_labels_data = test_data_file[:,-1]\n",
    "\n"
   ]
  }
 ],
 "metadata": {
  "kernelspec": {
   "display_name": "Python 3",
   "language": "python",
   "name": "python3"
  },
  "language_info": {
   "codemirror_mode": {
    "name": "ipython",
    "version": 3
   },
   "file_extension": ".py",
   "mimetype": "text/x-python",
   "name": "python",
   "nbconvert_exporter": "python",
   "pygments_lexer": "ipython3",
   "version": "3.8.2"
  }
 },
 "nbformat": 4,
 "nbformat_minor": 4
}
