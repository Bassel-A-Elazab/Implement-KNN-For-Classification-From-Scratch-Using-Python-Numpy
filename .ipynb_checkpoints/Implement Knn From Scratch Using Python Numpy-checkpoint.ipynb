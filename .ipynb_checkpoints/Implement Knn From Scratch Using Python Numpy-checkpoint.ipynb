{
 "cells": [
  {
   "cell_type": "code",
   "execution_count": 4,
   "metadata": {},
   "outputs": [],
   "source": [
    "import numpy as np\n",
    "import matplotlib.pyplot as plt\n",
    "import math"
   ]
  },
  {
   "cell_type": "code",
   "execution_count": 10,
   "metadata": {},
   "outputs": [
    {
     "name": "stdout",
     "output_type": "stream",
     "text": [
      "Number of trainning data = 120\n",
      "Number of testing data = 30\n"
     ]
    }
   ],
   "source": [
    "train_data_path = 'Data/IrisTraining.csv'\n",
    "test_data_path = 'Data/IrisTest.csv'\n",
    "\n",
    "train_data_file = np.loadtxt(train_data_path, delimiter = ',')\n",
    "test_data_file = np.loadtxt(test_data_path, delimiter = ',')\n",
    "\n",
    "train_data = train_data_file[:,:-1]\n",
    "train_labels_data = train_data_file[:,-1]\n",
    "\n",
    "test_data = test_data_file[:,:-1]\n",
    "test_labels_data = test_data_file[:,-1]\n",
    "\n",
    "print('Number of trainning data = %d'%(len(train_data)))\n",
    "print('Number of testing data = %d'%(len(test_data)))"
   ]
  },
  {
   "cell_type": "code",
   "execution_count": 11,
   "metadata": {},
   "outputs": [
    {
     "name": "stdout",
     "output_type": "stream",
     "text": [
      "0.0\n",
      "1.6552945357246844\n"
     ]
    }
   ],
   "source": [
    "def calculate_euclidean_distance(row1,row2):\n",
    "    l2 = 0\n",
    "    for i in range(len(row1)):\n",
    "        l2+=((row1[i] - row2[i])**2)\n",
    "    return math.sqrt(l2)\n",
    "print(calculate_euclidean_distance(train_data[0],train_data[0]))\n",
    "print(calculate_euclidean_distance(train_data[0],test_data[0]))"
   ]
  },
  {
   "cell_type": "code",
   "execution_count": 16,
   "metadata": {},
   "outputs": [
    {
     "name": "stdout",
     "output_type": "stream",
     "text": [
      "[(array([6.8, 3. , 5.5, 2.1]), 2.0, 0.17320508075688787), (array([6.7, 3. , 5.2, 2.3]), 2.0, 0.360555127546399), (array([6.9, 3.1, 5.1, 2.3]), 2.0, 0.3605551275463994), (array([6.9, 3.2, 5.7, 2.3]), 2.0, 0.3741657386773939), (array([6.7, 3.1, 5.6, 2.4]), 2.0, 0.4123105625617657)]\n"
     ]
    }
   ],
   "source": [
    "def get_neighbors(trainData,trainLabel,testInstance,k):\n",
    "    distances = list()\n",
    "    neighbors = list()\n",
    "    for i in range(len(trainData)):\n",
    "        dist = calculate_euclidean_distance(trainData[i],testInstance)\n",
    "        distances.append((trainData[i],trainLabel[i],dist))\n",
    "    distances.sort(key=lambda tup:tup[2])\n",
    "    neighbors = distances[:k]\n",
    "    return neighbors\n",
    "\n",
    "k = 5\n",
    "neighbors = get_neighbors(train_data,train_labels_data,test_data[1],k)\n",
    "print((neighbors))"
   ]
  },
  {
   "cell_type": "code",
   "execution_count": 21,
   "metadata": {},
   "outputs": [
    {
     "name": "stdout",
     "output_type": "stream",
     "text": [
      "Expected Class 1 , Prediction Class 1\n",
      "Expected Class 0 , Prediction Class 0\n"
     ]
    }
   ],
   "source": [
    "def get_prediction(trainData,trainLabel,testInstance,k):\n",
    "    neighbors = get_neighbors(trainData,trainLabel,testInstance,k)\n",
    "    class_vote = {}\n",
    "    for i in range(len(neighbors)):\n",
    "        get_neighbors_val = neighbors[i][1]\n",
    "        if get_neighbors_val in class_vote:\n",
    "            class_vote[get_neighbors_val] += 1\n",
    "        else:\n",
    "            class_vote[get_neighbors_val] = 1\n",
    "    sort_class_vote = sorted(class_vote.items(), key = lambda x:x[1],reverse = True)\n",
    "    prediction = sort_class_vote[0][0]\n",
    "    return prediction\n",
    "\n",
    "pred = get_prediction(train_data,train_labels_data,test_data[0],k)\n",
    "print('Expected Class %d , Prediction Class %d'%(test_labels_data[0],pred))\n",
    "\n",
    "pred = get_prediction(train_data,train_labels_data,test_data[15],k)\n",
    "print('Expected Class %d , Prediction Class %d'%(test_labels_data[15],pred))"
   ]
  },
  {
   "cell_type": "code",
   "execution_count": 58,
   "metadata": {},
   "outputs": [
    {
     "name": "stdout",
     "output_type": "stream",
     "text": [
      "The acuuracy of KNN for classification data is 96.666667 with K = 5\n",
      "The acuuracy of KNN for classification data is 93.333333 with K = 1\n"
     ]
    }
   ],
   "source": [
    "def calculate_accuracy(trainData,trainLabel,testData,testLabelData,k):\n",
    "    test_predictions = list()\n",
    "    count_correct = 0;\n",
    "    for i in range(len(testData)):\n",
    "        pred = get_prediction(trainData,trainLabel,testData[i],k)\n",
    "        if pred == testLabelData[i]:\n",
    "            count_correct+=1\n",
    "    return (count_correct/float(len(testData)))\n",
    "k = 5\n",
    "acc = calculate_accuracy(train_data,train_labels_data,test_data,test_labels_data,k)\n",
    "print(\"The acuuracy of KNN for classification data is %f with K = %d\"%((acc*100),k))\n",
    "\n",
    "acc = calculate_accuracy(train_data,train_labels_data,test_data,test_labels_data,1)\n",
    "print(\"The acuuracy of KNN for classification data is %f with K = %d\"%((acc*100),1))"
   ]
  },
  {
   "cell_type": "code",
   "execution_count": 59,
   "metadata": {},
   "outputs": [
    {
     "data": {
      "image/png": "[encoded data removed]",
      "text/plain": [
       "<Figure size 432x288 with 1 Axes>"
      ]
     },
     "metadata": {
      "needs_background": "light"
     },
     "output_type": "display_data"
    }
   ],
   "source": [
    "acc_val = []\n",
    "for i in range(1,len(train_data)):\n",
    "    acc = calculate_accuracy(train_data,train_labels_data,test_data,test_labels_data,i)\n",
    "    acc_val.append([i,acc])\n",
    "    pass\n",
    "\n",
    "acc_val = np.array(acc_val)\n",
    "plt.plot(acc_val[:,0],acc_val[:,1])\n",
    "plt.xlabel('K')\n",
    "plt.ylabel('Accuracy')\n",
    "plt.show()"
   ]
  },
  {
   "cell_type": "code",
   "execution_count": null,
   "metadata": {},
   "outputs": [],
   "source": []
  }
 ],
 "metadata": {
  "kernelspec": {
   "display_name": "Python 3",
   "language": "python",
   "name": "python3"
  },
  "language_info": {
   "codemirror_mode": {
    "name": "ipython",
    "version": 3
   },
   "file_extension": ".py",
   "mimetype": "text/x-python",
   "name": "python",
   "nbconvert_exporter": "python",
   "pygments_lexer": "ipython3",
   "version": "3.8.2"
  }
 },
 "nbformat": 4,
 "nbformat_minor": 4
}
