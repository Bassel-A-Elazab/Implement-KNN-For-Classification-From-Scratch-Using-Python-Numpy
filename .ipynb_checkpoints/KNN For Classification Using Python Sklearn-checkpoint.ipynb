{
 "cells": [
  {
   "cell_type": "code",
   "execution_count": 47,
   "metadata": {},
   "outputs": [],
   "source": [
    "import numpy as np\n",
    "from sklearn import datasets\n",
    "from sklearn.model_selection import train_test_split\n",
    "from sklearn.metrics import accuracy_score\n",
    "import matplotlib.pyplot as plt\n",
    "from sklearn.neighbors import KNeighborsClassifier\n",
    "import pandas as pd"
   ]
  },
  {
   "cell_type": "code",
   "execution_count": 4,
   "metadata": {},
   "outputs": [
    {
     "name": "stdout",
     "output_type": "stream",
     "text": [
      "Number of trainning data = 120\n",
      "Number of testing data = 30\n"
     ]
    }
   ],
   "source": [
    "train_data_path = 'Data/IrisTraining.csv'\n",
    "test_data_path = 'Data/IrisTest.csv'\n",
    "\n",
    "train_data_file = np.loadtxt(train_data_path, delimiter = ',')\n",
    "test_data_file = np.loadtxt(test_data_path, delimiter = ',')\n",
    "\n",
    "train_data = train_data_file[:,:-1]\n",
    "train_labels_data = train_data_file[:,-1]\n",
    "\n",
    "test_data = test_data_file[:,:-1]\n",
    "test_labels_data = test_data_file[:,-1]\n",
    "\n",
    "print('Number of trainning data = %d'%(len(train_data)))\n",
    "print('Number of testing data = %d'%(len(test_data)))"
   ]
  },
  {
   "cell_type": "code",
   "execution_count": 8,
   "metadata": {},
   "outputs": [
    {
     "data": {
      "text/plain": [
       "KNeighborsClassifier()"
      ]
     },
     "execution_count": 8,
     "metadata": {},
     "output_type": "execute_result"
    }
   ],
   "source": [
    "k = 5\n",
    "knn = KNeighborsClassifier(n_neighbors=k)\n",
    "knn.fit(train_data,train_labels_data)"
   ]
  },
  {
   "cell_type": "code",
   "execution_count": 13,
   "metadata": {},
   "outputs": [
    {
     "name": "stdout",
     "output_type": "stream",
     "text": [
      "Expected Class is : 1 and Prediction Class is : 1\n",
      "Expected Class is : 1 and Prediction Class is : 1\n",
      "Expected Class is : 2 and Prediction Class is : 2\n"
     ]
    }
   ],
   "source": [
    "pred = knn.predict(test_data)\n",
    "\n",
    "print('Expected Class is : %d and Prediction Class is : %d'%(test_labels_data[0],pred[0]))\n",
    "print('Expected Class is : %d and Prediction Class is : %d'%(test_labels_data[16],pred[16]))\n",
    "print('Expected Class is : %d and Prediction Class is : %d'%(test_labels_data[28],pred[28]))"
   ]
  },
  {
   "cell_type": "code",
   "execution_count": 22,
   "metadata": {},
   "outputs": [],
   "source": [
    "accuracy_val = []\n",
    "for i in range(1,len(train_data)):\n",
    "    knn = KNeighborsClassifier(n_neighbors=i)\n",
    "    knn.fit(train_data,train_labels_data)\n",
    "    accuracy = accuracy_score(test_labels_data,knn.predict(test_data))\n",
    "    accuracy_val.append([i,accuracy])\n",
    "    pass"
   ]
  },
  {
   "cell_type": "code",
   "execution_count": 25,
   "metadata": {},
   "outputs": [
    {
     "data": {
      "image/png": "[encoded data removed]",
      "text/plain": [
       "<Figure size 432x288 with 1 Axes>"
      ]
     },
     "metadata": {
      "needs_background": "light"
     },
     "output_type": "display_data"
    }
   ],
   "source": [
    "accuracy_val = np.array(accuracy_val)\n",
    "plt.plot(accuracy_val[:,0],accuracy_val[:,1])\n",
    "plt.xlabel('K')\n",
    "plt.ylabel('Accuracy')\n",
    "plt.show()"
   ]
  },
  {
   "cell_type": "code",
   "execution_count": 46,
   "metadata": {},
   "outputs": [
    {
     "name": "stdout",
     "output_type": "stream",
     "text": [
      "Number of wine data is : 178\n",
      "Number of wine features data is : 13 \n",
      "Number of class label/target of wine data is : 3\n"
     ]
    }
   ],
   "source": [
    "wine = datasets.load_wine()\n",
    "print('Number of wine data is : %d'%(len(wine.data)))\n",
    "print('Number of wine features data is : %d '%(len(wine.feature_names)))\n",
    "print('Number of class label/target of wine data is : %d'%(len(wine.target_names)))"
   ]
  },
  {
   "cell_type": "code",
   "execution_count": null,
   "metadata": {},
   "outputs": [],
   "source": []
  }
 ],
 "metadata": {
  "kernelspec": {
   "display_name": "Python 3",
   "language": "python",
   "name": "python3"
  },
  "language_info": {
   "codemirror_mode": {
    "name": "ipython",
    "version": 3
   },
   "file_extension": ".py",
   "mimetype": "text/x-python",
   "name": "python",
   "nbconvert_exporter": "python",
   "pygments_lexer": "ipython3",
   "version": "3.8.2"
  }
 },
 "nbformat": 4,
 "nbformat_minor": 4
}
